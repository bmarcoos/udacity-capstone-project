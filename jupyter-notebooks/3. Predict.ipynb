{
 "cells": [
  {
   "cell_type": "code",
   "execution_count": 1,
   "metadata": {},
   "outputs": [
    {
     "name": "stderr",
     "output_type": "stream",
     "text": [
      "/anaconda3/lib/python3.6/site-packages/h5py/__init__.py:36: FutureWarning: Conversion of the second argument of issubdtype from `float` to `np.floating` is deprecated. In future, it will be treated as `np.float64 == np.dtype(float).type`.\n",
      "  from ._conv import register_converters as _register_converters\n",
      "Using TensorFlow backend.\n"
     ]
    }
   ],
   "source": [
    "from keras.models import load_model\n",
    "import cv2\n",
    "import numpy as np\n",
    "from IPython.core.display import display, HTML"
   ]
  },
  {
   "cell_type": "markdown",
   "metadata": {},
   "source": [
    "### LOAD TRAINED MODELS"
   ]
  },
  {
   "cell_type": "code",
   "execution_count": 2,
   "metadata": {},
   "outputs": [],
   "source": [
    "# https://keras.io/getting-started/faq/#how-can-i-save-a-keras-model\n",
    "# LOAD TRAINED MODELS\n",
    "smile_model = load_model('saved_models/smile_model.h5')\n",
    "gender_model = load_model('saved_models/gender_model.h5')\n",
    "young_model = load_model('saved_models/young_model.h5')"
   ]
  },
  {
   "cell_type": "markdown",
   "metadata": {},
   "source": [
    "### Define functions to predict and display results"
   ]
  },
  {
   "cell_type": "code",
   "execution_count": 10,
   "metadata": {},
   "outputs": [],
   "source": [
    "def display_result(filename, prediction):\n",
    "    \n",
    "    smile = 'Smiling!'\n",
    "    gender = 'Male'\n",
    "    young = 'Is Young'\n",
    "    \n",
    "    smile_icon = \"icons/smiling-2.png\"\n",
    "    gender_icon = \"icons/boy-2.png\"\n",
    "    young_icon = \"icons/couple-2.png\"\n",
    "    \n",
    "    if prediction['smile'] == 0:\n",
    "        smile_icon = \"icons/serious-2.png\"\n",
    "        smile = 'Not Smiling'\n",
    "        \n",
    "    if prediction['gender'] == 0:\n",
    "        gender_icon = \"icons/woman-2.png\"\n",
    "        gender = 'Female'\n",
    "        \n",
    "    if prediction['young'] == 0:\n",
    "        young_icon = \"icons/elderly-2.png\"\n",
    "        young = 'Not Young'\n",
    "        \n",
    "    display_html = '''\n",
    "    <div style=\"overflow: auto;  border: 2px solid #D8D8D8;\n",
    "        padding: 5px; width: 420px;\" >\n",
    "        <img src=\"{}\" style=\"float: left;\" width=\"200\" height=\"200\">\n",
    "\n",
    "        <div style=\"padding: 10px 0px 0px 20px; overflow: auto;\">\n",
    "            <img src=\"{}\" style=\"float: left;\" width=\"40\" height=\"40\">\n",
    "            <h3 style=\"margin-left: 50px; margin-top: 2px;\">{}</h3>\n",
    "            <p style=\"margin-left: 50px; margin-top: 3px; font-size: 12px\">{} prob.</p>\n",
    "        </div>\n",
    "\n",
    "        <div style=\"padding: 10px 0px 0px 20px; overflow: auto;\">\n",
    "            <img src=\"{}\" style=\"float: left;\" width=\"40\" height=\"40\">\n",
    "            <h3 style=\"margin-left: 50px; margin-top: 2px;\">{}</h3>\n",
    "            <p style=\"margin-left: 50px; margin-top: 3px; font-size: 12px\">{} prob.</p>\n",
    "        </div>\n",
    "\n",
    "        <div style=\"padding: 10px 0px 0px 20px; overflow: auto;\">\n",
    "            <img src=\"{}\" style=\"float: left;\" width=\"36\" height=\"36\">\n",
    "            <h3 style=\"margin-left: 50px; margin-top: 2px;\">{}</h3>\n",
    "            <p style=\"margin-left: 50px; margin-top: 3px; font-size: 12px\">{} prob.</p>\n",
    "        </div>\n",
    "\n",
    "    </div>\n",
    "\n",
    "    '''.format(filename\n",
    "               , smile_icon\n",
    "               , smile\n",
    "               , \"{0:.2f}%\".format(round(max(prediction['smile_prob'][0])*100,2))\n",
    "               , gender_icon\n",
    "               , gender\n",
    "               , \"{0:.2f}%\".format(round(max(prediction['gender_prob'][0])*100,2))\n",
    "               , young_icon\n",
    "               , young\n",
    "               , \"{0:.2f}%\".format(round(max(prediction['young_prob'][0])*100,2)))\n",
    "\n",
    "    display(HTML(display_html))"
   ]
  },
  {
   "cell_type": "code",
   "execution_count": 13,
   "metadata": {},
   "outputs": [],
   "source": [
    "def make_prediction(filename):\n",
    "    \n",
    "    prediction = {\n",
    "        'smile': None\n",
    "        , 'smile_prob': None\n",
    "        , 'gender': None\n",
    "        , 'gender_prob': None\n",
    "        , 'young': None\n",
    "        , 'young_prob': None\n",
    "    }\n",
    "\n",
    "    im = cv2.imread(filename)\n",
    "    im = cv2.resize(cv2.cvtColor(im, cv2.COLOR_BGR2RGB), (178, 218)).astype(np.float32) / 255.0\n",
    "    im = np.expand_dims(im, axis =0)\n",
    "    \n",
    "    # Smile prediction\n",
    "    smile_result = smile_model.predict(im)\n",
    "    prediction['smile'] = np.argmax(smile_result)\n",
    "    prediction['smile_prob'] = smile_result\n",
    "    \n",
    "    # Gender prediction\n",
    "    gender_result = gender_model.predict(im)\n",
    "    prediction['gender'] = np.argmax(gender_result)\n",
    "    prediction['gender_prob'] = gender_result\n",
    "    \n",
    "    # Young prediction\n",
    "    young_result = young_model.predict(im)\n",
    "    prediction['young'] = np.argmax(young_result)\n",
    "    prediction['young_prob'] = young_result\n",
    "    \n",
    "    display_result(filename, prediction)\n",
    "    \n",
    "    #return prediction"
   ]
  },
  {
   "cell_type": "markdown",
   "metadata": {},
   "source": [
    "### Run Predictions!"
   ]
  },
  {
   "cell_type": "code",
   "execution_count": 25,
   "metadata": {},
   "outputs": [
    {
     "data": {
      "text/html": [
       "\n",
       "    <div style=\"overflow: auto;  border: 2px solid #D8D8D8;\n",
       "        padding: 5px; width: 420px;\" >\n",
       "        <img src=\"celeba-dataset/img_align_celeba/185399.jpg\" style=\"float: left;\" width=\"200\" height=\"200\">\n",
       "\n",
       "        <div style=\"padding: 10px 0px 0px 20px; overflow: auto;\">\n",
       "            <img src=\"icons/serious-2.png\" style=\"float: left;\" width=\"40\" height=\"40\">\n",
       "            <h3 style=\"margin-left: 50px; margin-top: 2px;\">Not Smiling</h3>\n",
       "            <p style=\"margin-left: 50px; margin-top: 3px; font-size: 12px\">89.09% prob.</p>\n",
       "        </div>\n",
       "\n",
       "        <div style=\"padding: 10px 0px 0px 20px; overflow: auto;\">\n",
       "            <img src=\"icons/boy-2.png\" style=\"float: left;\" width=\"40\" height=\"40\">\n",
       "            <h3 style=\"margin-left: 50px; margin-top: 2px;\">Male</h3>\n",
       "            <p style=\"margin-left: 50px; margin-top: 3px; font-size: 12px\">100.00% prob.</p>\n",
       "        </div>\n",
       "\n",
       "        <div style=\"padding: 10px 0px 0px 20px; overflow: auto;\">\n",
       "            <img src=\"icons/couple-2.png\" style=\"float: left;\" width=\"36\" height=\"36\">\n",
       "            <h3 style=\"margin-left: 50px; margin-top: 2px;\">Is Young</h3>\n",
       "            <p style=\"margin-left: 50px; margin-top: 3px; font-size: 12px\">99.70% prob.</p>\n",
       "        </div>\n",
       "\n",
       "    </div>\n",
       "\n",
       "    "
      ],
      "text/plain": [
       "<IPython.core.display.HTML object>"
      ]
     },
     "metadata": {},
     "output_type": "display_data"
    },
    {
     "data": {
      "text/html": [
       "\n",
       "    <div style=\"overflow: auto;  border: 2px solid #D8D8D8;\n",
       "        padding: 5px; width: 420px;\" >\n",
       "        <img src=\"celeba-dataset/img_align_celeba/000506.jpg\" style=\"float: left;\" width=\"200\" height=\"200\">\n",
       "\n",
       "        <div style=\"padding: 10px 0px 0px 20px; overflow: auto;\">\n",
       "            <img src=\"icons/smiling-2.png\" style=\"float: left;\" width=\"40\" height=\"40\">\n",
       "            <h3 style=\"margin-left: 50px; margin-top: 2px;\">Smiling!</h3>\n",
       "            <p style=\"margin-left: 50px; margin-top: 3px; font-size: 12px\">99.99% prob.</p>\n",
       "        </div>\n",
       "\n",
       "        <div style=\"padding: 10px 0px 0px 20px; overflow: auto;\">\n",
       "            <img src=\"icons/woman-2.png\" style=\"float: left;\" width=\"40\" height=\"40\">\n",
       "            <h3 style=\"margin-left: 50px; margin-top: 2px;\">Female</h3>\n",
       "            <p style=\"margin-left: 50px; margin-top: 3px; font-size: 12px\">100.00% prob.</p>\n",
       "        </div>\n",
       "\n",
       "        <div style=\"padding: 10px 0px 0px 20px; overflow: auto;\">\n",
       "            <img src=\"icons/couple-2.png\" style=\"float: left;\" width=\"36\" height=\"36\">\n",
       "            <h3 style=\"margin-left: 50px; margin-top: 2px;\">Is Young</h3>\n",
       "            <p style=\"margin-left: 50px; margin-top: 3px; font-size: 12px\">98.66% prob.</p>\n",
       "        </div>\n",
       "\n",
       "    </div>\n",
       "\n",
       "    "
      ],
      "text/plain": [
       "<IPython.core.display.HTML object>"
      ]
     },
     "metadata": {},
     "output_type": "display_data"
    },
    {
     "data": {
      "text/html": [
       "\n",
       "    <div style=\"overflow: auto;  border: 2px solid #D8D8D8;\n",
       "        padding: 5px; width: 420px;\" >\n",
       "        <img src=\"celeba-dataset/img_align_celeba/182811.jpg\" style=\"float: left;\" width=\"200\" height=\"200\">\n",
       "\n",
       "        <div style=\"padding: 10px 0px 0px 20px; overflow: auto;\">\n",
       "            <img src=\"icons/smiling-2.png\" style=\"float: left;\" width=\"40\" height=\"40\">\n",
       "            <h3 style=\"margin-left: 50px; margin-top: 2px;\">Smiling!</h3>\n",
       "            <p style=\"margin-left: 50px; margin-top: 3px; font-size: 12px\">61.89% prob.</p>\n",
       "        </div>\n",
       "\n",
       "        <div style=\"padding: 10px 0px 0px 20px; overflow: auto;\">\n",
       "            <img src=\"icons/boy-2.png\" style=\"float: left;\" width=\"40\" height=\"40\">\n",
       "            <h3 style=\"margin-left: 50px; margin-top: 2px;\">Male</h3>\n",
       "            <p style=\"margin-left: 50px; margin-top: 3px; font-size: 12px\">99.04% prob.</p>\n",
       "        </div>\n",
       "\n",
       "        <div style=\"padding: 10px 0px 0px 20px; overflow: auto;\">\n",
       "            <img src=\"icons/elderly-2.png\" style=\"float: left;\" width=\"36\" height=\"36\">\n",
       "            <h3 style=\"margin-left: 50px; margin-top: 2px;\">Not Young</h3>\n",
       "            <p style=\"margin-left: 50px; margin-top: 3px; font-size: 12px\">89.52% prob.</p>\n",
       "        </div>\n",
       "\n",
       "    </div>\n",
       "\n",
       "    "
      ],
      "text/plain": [
       "<IPython.core.display.HTML object>"
      ]
     },
     "metadata": {},
     "output_type": "display_data"
    },
    {
     "data": {
      "text/html": [
       "\n",
       "    <div style=\"overflow: auto;  border: 2px solid #D8D8D8;\n",
       "        padding: 5px; width: 420px;\" >\n",
       "        <img src=\"celeba-dataset/img_align_celeba/182844.jpg\" style=\"float: left;\" width=\"200\" height=\"200\">\n",
       "\n",
       "        <div style=\"padding: 10px 0px 0px 20px; overflow: auto;\">\n",
       "            <img src=\"icons/serious-2.png\" style=\"float: left;\" width=\"40\" height=\"40\">\n",
       "            <h3 style=\"margin-left: 50px; margin-top: 2px;\">Not Smiling</h3>\n",
       "            <p style=\"margin-left: 50px; margin-top: 3px; font-size: 12px\">99.86% prob.</p>\n",
       "        </div>\n",
       "\n",
       "        <div style=\"padding: 10px 0px 0px 20px; overflow: auto;\">\n",
       "            <img src=\"icons/woman-2.png\" style=\"float: left;\" width=\"40\" height=\"40\">\n",
       "            <h3 style=\"margin-left: 50px; margin-top: 2px;\">Female</h3>\n",
       "            <p style=\"margin-left: 50px; margin-top: 3px; font-size: 12px\">100.00% prob.</p>\n",
       "        </div>\n",
       "\n",
       "        <div style=\"padding: 10px 0px 0px 20px; overflow: auto;\">\n",
       "            <img src=\"icons/couple-2.png\" style=\"float: left;\" width=\"36\" height=\"36\">\n",
       "            <h3 style=\"margin-left: 50px; margin-top: 2px;\">Is Young</h3>\n",
       "            <p style=\"margin-left: 50px; margin-top: 3px; font-size: 12px\">68.12% prob.</p>\n",
       "        </div>\n",
       "\n",
       "    </div>\n",
       "\n",
       "    "
      ],
      "text/plain": [
       "<IPython.core.display.HTML object>"
      ]
     },
     "metadata": {},
     "output_type": "display_data"
    },
    {
     "data": {
      "text/html": [
       "\n",
       "    <div style=\"overflow: auto;  border: 2px solid #D8D8D8;\n",
       "        padding: 5px; width: 420px;\" >\n",
       "        <img src=\"celeba-dataset/img_align_celeba/197126.jpg\" style=\"float: left;\" width=\"200\" height=\"200\">\n",
       "\n",
       "        <div style=\"padding: 10px 0px 0px 20px; overflow: auto;\">\n",
       "            <img src=\"icons/smiling-2.png\" style=\"float: left;\" width=\"40\" height=\"40\">\n",
       "            <h3 style=\"margin-left: 50px; margin-top: 2px;\">Smiling!</h3>\n",
       "            <p style=\"margin-left: 50px; margin-top: 3px; font-size: 12px\">67.92% prob.</p>\n",
       "        </div>\n",
       "\n",
       "        <div style=\"padding: 10px 0px 0px 20px; overflow: auto;\">\n",
       "            <img src=\"icons/woman-2.png\" style=\"float: left;\" width=\"40\" height=\"40\">\n",
       "            <h3 style=\"margin-left: 50px; margin-top: 2px;\">Female</h3>\n",
       "            <p style=\"margin-left: 50px; margin-top: 3px; font-size: 12px\">100.00% prob.</p>\n",
       "        </div>\n",
       "\n",
       "        <div style=\"padding: 10px 0px 0px 20px; overflow: auto;\">\n",
       "            <img src=\"icons/couple-2.png\" style=\"float: left;\" width=\"36\" height=\"36\">\n",
       "            <h3 style=\"margin-left: 50px; margin-top: 2px;\">Is Young</h3>\n",
       "            <p style=\"margin-left: 50px; margin-top: 3px; font-size: 12px\">97.19% prob.</p>\n",
       "        </div>\n",
       "\n",
       "    </div>\n",
       "\n",
       "    "
      ],
      "text/plain": [
       "<IPython.core.display.HTML object>"
      ]
     },
     "metadata": {},
     "output_type": "display_data"
    },
    {
     "data": {
      "text/html": [
       "\n",
       "    <div style=\"overflow: auto;  border: 2px solid #D8D8D8;\n",
       "        padding: 5px; width: 420px;\" >\n",
       "        <img src=\"celeba-dataset/img_align_celeba/193309.jpg\" style=\"float: left;\" width=\"200\" height=\"200\">\n",
       "\n",
       "        <div style=\"padding: 10px 0px 0px 20px; overflow: auto;\">\n",
       "            <img src=\"icons/smiling-2.png\" style=\"float: left;\" width=\"40\" height=\"40\">\n",
       "            <h3 style=\"margin-left: 50px; margin-top: 2px;\">Smiling!</h3>\n",
       "            <p style=\"margin-left: 50px; margin-top: 3px; font-size: 12px\">99.55% prob.</p>\n",
       "        </div>\n",
       "\n",
       "        <div style=\"padding: 10px 0px 0px 20px; overflow: auto;\">\n",
       "            <img src=\"icons/woman-2.png\" style=\"float: left;\" width=\"40\" height=\"40\">\n",
       "            <h3 style=\"margin-left: 50px; margin-top: 2px;\">Female</h3>\n",
       "            <p style=\"margin-left: 50px; margin-top: 3px; font-size: 12px\">100.00% prob.</p>\n",
       "        </div>\n",
       "\n",
       "        <div style=\"padding: 10px 0px 0px 20px; overflow: auto;\">\n",
       "            <img src=\"icons/couple-2.png\" style=\"float: left;\" width=\"36\" height=\"36\">\n",
       "            <h3 style=\"margin-left: 50px; margin-top: 2px;\">Is Young</h3>\n",
       "            <p style=\"margin-left: 50px; margin-top: 3px; font-size: 12px\">98.84% prob.</p>\n",
       "        </div>\n",
       "\n",
       "    </div>\n",
       "\n",
       "    "
      ],
      "text/plain": [
       "<IPython.core.display.HTML object>"
      ]
     },
     "metadata": {},
     "output_type": "display_data"
    }
   ],
   "source": [
    "# Images from CelebA\n",
    "make_prediction('celeba-dataset/img_align_celeba/185399.jpg')\n",
    "make_prediction('celeba-dataset/img_align_celeba/000506.jpg')\n",
    "make_prediction('celeba-dataset/img_align_celeba/182811.jpg')\n",
    "make_prediction('celeba-dataset/img_align_celeba/182844.jpg')\n",
    "make_prediction('celeba-dataset/img_align_celeba/197126.jpg')\n",
    "make_prediction('celeba-dataset/img_align_celeba/193309.jpg')"
   ]
  },
  {
   "cell_type": "code",
   "execution_count": 34,
   "metadata": {},
   "outputs": [
    {
     "data": {
      "text/html": [
       "\n",
       "    <div style=\"overflow: auto;  border: 2px solid #D8D8D8;\n",
       "        padding: 5px; width: 420px;\" >\n",
       "        <img src=\"non_celeba_pics/001.jpg\" style=\"float: left;\" width=\"200\" height=\"200\">\n",
       "\n",
       "        <div style=\"padding: 10px 0px 0px 20px; overflow: auto;\">\n",
       "            <img src=\"icons/serious-2.png\" style=\"float: left;\" width=\"40\" height=\"40\">\n",
       "            <h3 style=\"margin-left: 50px; margin-top: 2px;\">Not Smiling</h3>\n",
       "            <p style=\"margin-left: 50px; margin-top: 3px; font-size: 12px\">87.70% prob.</p>\n",
       "        </div>\n",
       "\n",
       "        <div style=\"padding: 10px 0px 0px 20px; overflow: auto;\">\n",
       "            <img src=\"icons/boy-2.png\" style=\"float: left;\" width=\"40\" height=\"40\">\n",
       "            <h3 style=\"margin-left: 50px; margin-top: 2px;\">Male</h3>\n",
       "            <p style=\"margin-left: 50px; margin-top: 3px; font-size: 12px\">85.44% prob.</p>\n",
       "        </div>\n",
       "\n",
       "        <div style=\"padding: 10px 0px 0px 20px; overflow: auto;\">\n",
       "            <img src=\"icons/couple-2.png\" style=\"float: left;\" width=\"36\" height=\"36\">\n",
       "            <h3 style=\"margin-left: 50px; margin-top: 2px;\">Is Young</h3>\n",
       "            <p style=\"margin-left: 50px; margin-top: 3px; font-size: 12px\">85.98% prob.</p>\n",
       "        </div>\n",
       "\n",
       "    </div>\n",
       "\n",
       "    "
      ],
      "text/plain": [
       "<IPython.core.display.HTML object>"
      ]
     },
     "metadata": {},
     "output_type": "display_data"
    },
    {
     "data": {
      "text/html": [
       "\n",
       "    <div style=\"overflow: auto;  border: 2px solid #D8D8D8;\n",
       "        padding: 5px; width: 420px;\" >\n",
       "        <img src=\"non_celeba_pics/hidethepainharold.jpg\" style=\"float: left;\" width=\"200\" height=\"200\">\n",
       "\n",
       "        <div style=\"padding: 10px 0px 0px 20px; overflow: auto;\">\n",
       "            <img src=\"icons/smiling-2.png\" style=\"float: left;\" width=\"40\" height=\"40\">\n",
       "            <h3 style=\"margin-left: 50px; margin-top: 2px;\">Smiling!</h3>\n",
       "            <p style=\"margin-left: 50px; margin-top: 3px; font-size: 12px\">96.79% prob.</p>\n",
       "        </div>\n",
       "\n",
       "        <div style=\"padding: 10px 0px 0px 20px; overflow: auto;\">\n",
       "            <img src=\"icons/boy-2.png\" style=\"float: left;\" width=\"40\" height=\"40\">\n",
       "            <h3 style=\"margin-left: 50px; margin-top: 2px;\">Male</h3>\n",
       "            <p style=\"margin-left: 50px; margin-top: 3px; font-size: 12px\">98.40% prob.</p>\n",
       "        </div>\n",
       "\n",
       "        <div style=\"padding: 10px 0px 0px 20px; overflow: auto;\">\n",
       "            <img src=\"icons/elderly-2.png\" style=\"float: left;\" width=\"36\" height=\"36\">\n",
       "            <h3 style=\"margin-left: 50px; margin-top: 2px;\">Not Young</h3>\n",
       "            <p style=\"margin-left: 50px; margin-top: 3px; font-size: 12px\">99.07% prob.</p>\n",
       "        </div>\n",
       "\n",
       "    </div>\n",
       "\n",
       "    "
      ],
      "text/plain": [
       "<IPython.core.display.HTML object>"
      ]
     },
     "metadata": {},
     "output_type": "display_data"
    },
    {
     "data": {
      "text/html": [
       "\n",
       "    <div style=\"overflow: auto;  border: 2px solid #D8D8D8;\n",
       "        padding: 5px; width: 420px;\" >\n",
       "        <img src=\"non_celeba_pics/002.jpg\" style=\"float: left;\" width=\"200\" height=\"200\">\n",
       "\n",
       "        <div style=\"padding: 10px 0px 0px 20px; overflow: auto;\">\n",
       "            <img src=\"icons/smiling-2.png\" style=\"float: left;\" width=\"40\" height=\"40\">\n",
       "            <h3 style=\"margin-left: 50px; margin-top: 2px;\">Smiling!</h3>\n",
       "            <p style=\"margin-left: 50px; margin-top: 3px; font-size: 12px\">99.98% prob.</p>\n",
       "        </div>\n",
       "\n",
       "        <div style=\"padding: 10px 0px 0px 20px; overflow: auto;\">\n",
       "            <img src=\"icons/woman-2.png\" style=\"float: left;\" width=\"40\" height=\"40\">\n",
       "            <h3 style=\"margin-left: 50px; margin-top: 2px;\">Female</h3>\n",
       "            <p style=\"margin-left: 50px; margin-top: 3px; font-size: 12px\">100.00% prob.</p>\n",
       "        </div>\n",
       "\n",
       "        <div style=\"padding: 10px 0px 0px 20px; overflow: auto;\">\n",
       "            <img src=\"icons/couple-2.png\" style=\"float: left;\" width=\"36\" height=\"36\">\n",
       "            <h3 style=\"margin-left: 50px; margin-top: 2px;\">Is Young</h3>\n",
       "            <p style=\"margin-left: 50px; margin-top: 3px; font-size: 12px\">51.00% prob.</p>\n",
       "        </div>\n",
       "\n",
       "    </div>\n",
       "\n",
       "    "
      ],
      "text/plain": [
       "<IPython.core.display.HTML object>"
      ]
     },
     "metadata": {},
     "output_type": "display_data"
    },
    {
     "data": {
      "text/html": [
       "\n",
       "    <div style=\"overflow: auto;  border: 2px solid #D8D8D8;\n",
       "        padding: 5px; width: 420px;\" >\n",
       "        <img src=\"non_celeba_pics/003.png\" style=\"float: left;\" width=\"200\" height=\"200\">\n",
       "\n",
       "        <div style=\"padding: 10px 0px 0px 20px; overflow: auto;\">\n",
       "            <img src=\"icons/smiling-2.png\" style=\"float: left;\" width=\"40\" height=\"40\">\n",
       "            <h3 style=\"margin-left: 50px; margin-top: 2px;\">Smiling!</h3>\n",
       "            <p style=\"margin-left: 50px; margin-top: 3px; font-size: 12px\">99.20% prob.</p>\n",
       "        </div>\n",
       "\n",
       "        <div style=\"padding: 10px 0px 0px 20px; overflow: auto;\">\n",
       "            <img src=\"icons/boy-2.png\" style=\"float: left;\" width=\"40\" height=\"40\">\n",
       "            <h3 style=\"margin-left: 50px; margin-top: 2px;\">Male</h3>\n",
       "            <p style=\"margin-left: 50px; margin-top: 3px; font-size: 12px\">98.99% prob.</p>\n",
       "        </div>\n",
       "\n",
       "        <div style=\"padding: 10px 0px 0px 20px; overflow: auto;\">\n",
       "            <img src=\"icons/couple-2.png\" style=\"float: left;\" width=\"36\" height=\"36\">\n",
       "            <h3 style=\"margin-left: 50px; margin-top: 2px;\">Is Young</h3>\n",
       "            <p style=\"margin-left: 50px; margin-top: 3px; font-size: 12px\">92.11% prob.</p>\n",
       "        </div>\n",
       "\n",
       "    </div>\n",
       "\n",
       "    "
      ],
      "text/plain": [
       "<IPython.core.display.HTML object>"
      ]
     },
     "metadata": {},
     "output_type": "display_data"
    },
    {
     "data": {
      "text/html": [
       "\n",
       "    <div style=\"overflow: auto;  border: 2px solid #D8D8D8;\n",
       "        padding: 5px; width: 420px;\" >\n",
       "        <img src=\"non_celeba_pics/004.jpg\" style=\"float: left;\" width=\"200\" height=\"200\">\n",
       "\n",
       "        <div style=\"padding: 10px 0px 0px 20px; overflow: auto;\">\n",
       "            <img src=\"icons/smiling-2.png\" style=\"float: left;\" width=\"40\" height=\"40\">\n",
       "            <h3 style=\"margin-left: 50px; margin-top: 2px;\">Smiling!</h3>\n",
       "            <p style=\"margin-left: 50px; margin-top: 3px; font-size: 12px\">98.32% prob.</p>\n",
       "        </div>\n",
       "\n",
       "        <div style=\"padding: 10px 0px 0px 20px; overflow: auto;\">\n",
       "            <img src=\"icons/boy-2.png\" style=\"float: left;\" width=\"40\" height=\"40\">\n",
       "            <h3 style=\"margin-left: 50px; margin-top: 2px;\">Male</h3>\n",
       "            <p style=\"margin-left: 50px; margin-top: 3px; font-size: 12px\">99.24% prob.</p>\n",
       "        </div>\n",
       "\n",
       "        <div style=\"padding: 10px 0px 0px 20px; overflow: auto;\">\n",
       "            <img src=\"icons/elderly-2.png\" style=\"float: left;\" width=\"36\" height=\"36\">\n",
       "            <h3 style=\"margin-left: 50px; margin-top: 2px;\">Not Young</h3>\n",
       "            <p style=\"margin-left: 50px; margin-top: 3px; font-size: 12px\">96.09% prob.</p>\n",
       "        </div>\n",
       "\n",
       "    </div>\n",
       "\n",
       "    "
      ],
      "text/plain": [
       "<IPython.core.display.HTML object>"
      ]
     },
     "metadata": {},
     "output_type": "display_data"
    }
   ],
   "source": [
    "# Images not from CelebA\n",
    "make_prediction('non_celeba_pics/001.jpg')\n",
    "make_prediction('non_celeba_pics/hidethepainharold.jpg') #http://knowyourmeme.com/memes/hide-the-pain-harold\n",
    "make_prediction(\"non_celeba_pics/002.jpg\")\n",
    "make_prediction(\"non_celeba_pics/003.png\")\n",
    "make_prediction(\"non_celeba_pics/004.jpg\")"
   ]
  },
  {
   "cell_type": "markdown",
   "metadata": {},
   "source": [
    "<div>Icons made by <a href=\"http://www.freepik.com\" title=\"Freepik\">Freepik</a> from <a href=\"https://www.flaticon.com/\" title=\"Flaticon\">www.flaticon.com</a> is licensed by <a href=\"http://creativecommons.org/licenses/by/3.0/\" title=\"Creative Commons BY 3.0\" target=\"_blank\">CC 3.0 BY</a></div>"
   ]
  }
 ],
 "metadata": {
  "kernelspec": {
   "display_name": "Python 3",
   "language": "python",
   "name": "python3"
  },
  "language_info": {
   "codemirror_mode": {
    "name": "ipython",
    "version": 3
   },
   "file_extension": ".py",
   "mimetype": "text/x-python",
   "name": "python",
   "nbconvert_exporter": "python",
   "pygments_lexer": "ipython3",
   "version": "3.6.5"
  }
 },
 "nbformat": 4,
 "nbformat_minor": 2
}
